{
 "cells": [
  {
   "cell_type": "code",
   "execution_count": 1,
   "metadata": {},
   "outputs": [],
   "source": [
    "#Fashion class identifier\n",
    "# Identifies from the image the category - like bags, shirts, shorts\n",
    "#\n",
    "# task of this program is to build a classifier to classify images to t-shit/tops,trouser,pullover, dress, coat, sandal, shirt,\n",
    "# sneaker, bag, ankle boot\n",
    "# Dataset:\n",
    "# 70,000 images - >28*28 greyscale images\n",
    "# Source : https://research.zalando.com/welcome/mission/research-projects/fashion-mnist/\n"
   ]
  },
  {
   "cell_type": "code",
   "execution_count": 2,
   "metadata": {},
   "outputs": [],
   "source": [
    "import pandas as pd\n",
    "import numpy as np\n",
    "import matplotlib.pyplot as plt\n",
    "import seaborn as sns"
   ]
  },
  {
   "cell_type": "code",
   "execution_count": 3,
   "metadata": {},
   "outputs": [],
   "source": [
    "#import dataset\n",
    "\n",
    "fashion_train_df = pd.read_csv(\"FashionData/fashion-mnist_train.csv\", sep = ',')\n",
    "fashion_test_df = pd.read_csv(\"FashionData/fashion-mnist_test.csv\", sep = \",\")"
   ]
  },
  {
   "cell_type": "code",
   "execution_count": 4,
   "metadata": {},
   "outputs": [
    {
     "data": {
      "text/html": [
       "<div>\n",
       "<style scoped>\n",
       "    .dataframe tbody tr th:only-of-type {\n",
       "        vertical-align: middle;\n",
       "    }\n",
       "\n",
       "    .dataframe tbody tr th {\n",
       "        vertical-align: top;\n",
       "    }\n",
       "\n",
       "    .dataframe thead th {\n",
       "        text-align: right;\n",
       "    }\n",
       "</style>\n",
       "<table border=\"1\" class=\"dataframe\">\n",
       "  <thead>\n",
       "    <tr style=\"text-align: right;\">\n",
       "      <th></th>\n",
       "      <th>label</th>\n",
       "      <th>pixel1</th>\n",
       "      <th>pixel2</th>\n",
       "      <th>pixel3</th>\n",
       "      <th>pixel4</th>\n",
       "      <th>pixel5</th>\n",
       "      <th>pixel6</th>\n",
       "      <th>pixel7</th>\n",
       "      <th>pixel8</th>\n",
       "      <th>pixel9</th>\n",
       "      <th>...</th>\n",
       "      <th>pixel775</th>\n",
       "      <th>pixel776</th>\n",
       "      <th>pixel777</th>\n",
       "      <th>pixel778</th>\n",
       "      <th>pixel779</th>\n",
       "      <th>pixel780</th>\n",
       "      <th>pixel781</th>\n",
       "      <th>pixel782</th>\n",
       "      <th>pixel783</th>\n",
       "      <th>pixel784</th>\n",
       "    </tr>\n",
       "  </thead>\n",
       "  <tbody>\n",
       "    <tr>\n",
       "      <th>0</th>\n",
       "      <td>2</td>\n",
       "      <td>0</td>\n",
       "      <td>0</td>\n",
       "      <td>0</td>\n",
       "      <td>0</td>\n",
       "      <td>0</td>\n",
       "      <td>0</td>\n",
       "      <td>0</td>\n",
       "      <td>0</td>\n",
       "      <td>0</td>\n",
       "      <td>...</td>\n",
       "      <td>0</td>\n",
       "      <td>0</td>\n",
       "      <td>0</td>\n",
       "      <td>0</td>\n",
       "      <td>0</td>\n",
       "      <td>0</td>\n",
       "      <td>0</td>\n",
       "      <td>0</td>\n",
       "      <td>0</td>\n",
       "      <td>0</td>\n",
       "    </tr>\n",
       "    <tr>\n",
       "      <th>1</th>\n",
       "      <td>9</td>\n",
       "      <td>0</td>\n",
       "      <td>0</td>\n",
       "      <td>0</td>\n",
       "      <td>0</td>\n",
       "      <td>0</td>\n",
       "      <td>0</td>\n",
       "      <td>0</td>\n",
       "      <td>0</td>\n",
       "      <td>0</td>\n",
       "      <td>...</td>\n",
       "      <td>0</td>\n",
       "      <td>0</td>\n",
       "      <td>0</td>\n",
       "      <td>0</td>\n",
       "      <td>0</td>\n",
       "      <td>0</td>\n",
       "      <td>0</td>\n",
       "      <td>0</td>\n",
       "      <td>0</td>\n",
       "      <td>0</td>\n",
       "    </tr>\n",
       "    <tr>\n",
       "      <th>2</th>\n",
       "      <td>6</td>\n",
       "      <td>0</td>\n",
       "      <td>0</td>\n",
       "      <td>0</td>\n",
       "      <td>0</td>\n",
       "      <td>0</td>\n",
       "      <td>0</td>\n",
       "      <td>0</td>\n",
       "      <td>5</td>\n",
       "      <td>0</td>\n",
       "      <td>...</td>\n",
       "      <td>0</td>\n",
       "      <td>0</td>\n",
       "      <td>0</td>\n",
       "      <td>30</td>\n",
       "      <td>43</td>\n",
       "      <td>0</td>\n",
       "      <td>0</td>\n",
       "      <td>0</td>\n",
       "      <td>0</td>\n",
       "      <td>0</td>\n",
       "    </tr>\n",
       "    <tr>\n",
       "      <th>3</th>\n",
       "      <td>0</td>\n",
       "      <td>0</td>\n",
       "      <td>0</td>\n",
       "      <td>0</td>\n",
       "      <td>1</td>\n",
       "      <td>2</td>\n",
       "      <td>0</td>\n",
       "      <td>0</td>\n",
       "      <td>0</td>\n",
       "      <td>0</td>\n",
       "      <td>...</td>\n",
       "      <td>3</td>\n",
       "      <td>0</td>\n",
       "      <td>0</td>\n",
       "      <td>0</td>\n",
       "      <td>0</td>\n",
       "      <td>1</td>\n",
       "      <td>0</td>\n",
       "      <td>0</td>\n",
       "      <td>0</td>\n",
       "      <td>0</td>\n",
       "    </tr>\n",
       "    <tr>\n",
       "      <th>4</th>\n",
       "      <td>3</td>\n",
       "      <td>0</td>\n",
       "      <td>0</td>\n",
       "      <td>0</td>\n",
       "      <td>0</td>\n",
       "      <td>0</td>\n",
       "      <td>0</td>\n",
       "      <td>0</td>\n",
       "      <td>0</td>\n",
       "      <td>0</td>\n",
       "      <td>...</td>\n",
       "      <td>0</td>\n",
       "      <td>0</td>\n",
       "      <td>0</td>\n",
       "      <td>0</td>\n",
       "      <td>0</td>\n",
       "      <td>0</td>\n",
       "      <td>0</td>\n",
       "      <td>0</td>\n",
       "      <td>0</td>\n",
       "      <td>0</td>\n",
       "    </tr>\n",
       "  </tbody>\n",
       "</table>\n",
       "<p>5 rows × 785 columns</p>\n",
       "</div>"
      ],
      "text/plain": [
       "   label  pixel1  pixel2  pixel3  pixel4  pixel5  pixel6  pixel7  pixel8  \\\n",
       "0      2       0       0       0       0       0       0       0       0   \n",
       "1      9       0       0       0       0       0       0       0       0   \n",
       "2      6       0       0       0       0       0       0       0       5   \n",
       "3      0       0       0       0       1       2       0       0       0   \n",
       "4      3       0       0       0       0       0       0       0       0   \n",
       "\n",
       "   pixel9  ...  pixel775  pixel776  pixel777  pixel778  pixel779  pixel780  \\\n",
       "0       0  ...         0         0         0         0         0         0   \n",
       "1       0  ...         0         0         0         0         0         0   \n",
       "2       0  ...         0         0         0        30        43         0   \n",
       "3       0  ...         3         0         0         0         0         1   \n",
       "4       0  ...         0         0         0         0         0         0   \n",
       "\n",
       "   pixel781  pixel782  pixel783  pixel784  \n",
       "0         0         0         0         0  \n",
       "1         0         0         0         0  \n",
       "2         0         0         0         0  \n",
       "3         0         0         0         0  \n",
       "4         0         0         0         0  \n",
       "\n",
       "[5 rows x 785 columns]"
      ]
     },
     "execution_count": 4,
     "metadata": {},
     "output_type": "execute_result"
    }
   ],
   "source": [
    "fashion_train_df.head()"
   ]
  },
  {
   "cell_type": "code",
   "execution_count": 5,
   "metadata": {},
   "outputs": [
    {
     "data": {
      "text/plain": [
       "(10000, 785)"
      ]
     },
     "execution_count": 5,
     "metadata": {},
     "output_type": "execute_result"
    }
   ],
   "source": [
    "fashion_test_df.shape"
   ]
  },
  {
   "cell_type": "code",
   "execution_count": 6,
   "metadata": {},
   "outputs": [],
   "source": [
    "training = np.array(fashion_train_df, dtype = 'float32')\n",
    "test = np.array(fashion_test_df, dtype = 'float32')"
   ]
  },
  {
   "cell_type": "code",
   "execution_count": 7,
   "metadata": {},
   "outputs": [],
   "source": [
    "# Visualize\n",
    "\n"
   ]
  },
  {
   "cell_type": "code",
   "execution_count": 9,
   "metadata": {},
   "outputs": [
    {
     "data": {
      "text/plain": [
       "<matplotlib.image.AxesImage at 0x21a998cfb20>"
      ]
     },
     "execution_count": 9,
     "metadata": {},
     "output_type": "execute_result"
    },
    {
     "data": {
      "image/png": "[encoded data removed]",
      "text/plain": [
       "<Figure size 432x288 with 1 Axes>"
      ]
     },
     "metadata": {
      "needs_background": "light"
     },
     "output_type": "display_data"
    }
   ],
   "source": [
    "plt.imshow(training[4043, 1:].reshape(28,28))"
   ]
  },
  {
   "cell_type": "code",
   "execution_count": 10,
   "metadata": {},
   "outputs": [],
   "source": [
    "#Model training"
   ]
  },
  {
   "cell_type": "code",
   "execution_count": 11,
   "metadata": {},
   "outputs": [],
   "source": [
    "#Neural Network - CNN\n",
    "\n",
    "# Since each pixel in image need to be independant we can't use them on the neural netowrk directly, we need to convolute the\n",
    "# available image pixels\n",
    "# the process before input to neural network would be to run through convolution layer(feature detector), pool the o/p (downsampling)\n",
    "# flatten the o/p and feed to neural network\n",
    "\n",
    "# convolution use kernal matrix for scan image and extract feature. Kernals are used in machine learning for feature detection\n",
    "# Convolution preserves spatial relationship between pixels\n",
    "\n",
    "# feature detection runs matrix and perform mathematical operation on each pixel based on type (blur, sharp) and assign \n",
    "# value for each o/p pixel based on feature map \n",
    "\n",
    "# RELU layers are added for non linearity in feature maps, improves sparsity/ scattered feature map covering all aspects\n",
    "# RELU minimises the oscillation in values present in matrix eg. like removing negative numbers to 0 in feature map\n",
    "\n",
    "# Pooling reduces the size of image preserving the features eg. 4x4 into 2x2 with features\n",
    "# pooling reduce feature map dimension and also generalizes the model"
   ]
  },
  {
   "cell_type": "code",
   "execution_count": 15,
   "metadata": {},
   "outputs": [],
   "source": [
    "X_train = training[:, 1:]/255 # -> /255 to normolize\n",
    "y_train = training[:, 0]\n",
    "\n",
    "X_test = test[:, 1:]/255\n",
    "y_test = test[:, 0]"
   ]
  },
  {
   "cell_type": "code",
   "execution_count": 16,
   "metadata": {},
   "outputs": [],
   "source": [
    "from sklearn.model_selection import train_test_split"
   ]
  },
  {
   "cell_type": "code",
   "execution_count": 17,
   "metadata": {},
   "outputs": [],
   "source": [
    "X_train, X_validate, y_train, y_validate = train_test_split(X_train, y_train, test_size = 0.2)"
   ]
  },
  {
   "cell_type": "code",
   "execution_count": 19,
   "metadata": {},
   "outputs": [],
   "source": [
    "# Since the data set is flattened, we need to reshape before input to CNN\n",
    "\n",
    "X_train = X_train.reshape(X_train.shape[0], *(28,28,1))\n",
    "X_test = X_test.reshape(X_test.shape[0], *(28,28,1))\n",
    "X_validate = X_validate.reshape(X_validate.shape[0], *(28,28,1))"
   ]
  },
  {
   "cell_type": "code",
   "execution_count": 20,
   "metadata": {},
   "outputs": [
    {
     "data": {
      "text/plain": [
       "(48000, 28, 28, 1)"
      ]
     },
     "execution_count": 20,
     "metadata": {},
     "output_type": "execute_result"
    }
   ],
   "source": [
    "X_train.shape"
   ]
  },
  {
   "cell_type": "code",
   "execution_count": 25,
   "metadata": {},
   "outputs": [],
   "source": [
    "import keras\n",
    "from keras.models import Sequential\n",
    "from keras.layers import Conv2D, MaxPooling2D, Dense, Flatten, Dropout\n",
    "from keras.optimizers import Adam\n",
    "from keras.callbacks import TensorBoard"
   ]
  },
  {
   "cell_type": "code",
   "execution_count": 51,
   "metadata": {},
   "outputs": [],
   "source": [
    "cnn_model = Sequential()"
   ]
  },
  {
   "cell_type": "code",
   "execution_count": 52,
   "metadata": {},
   "outputs": [],
   "source": [
    "cnn_model.add(Conv2D(64, 3, 3, input_shape = (28,28,1), activation = 'relu'))   # conv2d(no.of feature, shape, shape, input_shape....)"
   ]
  },
  {
   "cell_type": "code",
   "execution_count": 53,
   "metadata": {},
   "outputs": [],
   "source": [
    "cnn_model.add(MaxPooling2D(pool_size = (2, 2))) # -> reduced size"
   ]
  },
  {
   "cell_type": "code",
   "execution_count": 54,
   "metadata": {},
   "outputs": [],
   "source": [
    "cnn_model.add(Flatten())"
   ]
  },
  {
   "cell_type": "code",
   "execution_count": 55,
   "metadata": {},
   "outputs": [],
   "source": [
    "cnn_model.add(Dense(units = 32, activation = 'relu'))   # hidden layer with 32 outputs\n",
    "cnn_model.add(Dense(units = 10, activation = 'sigmoid')) # 10 output class and sigmoid for output definition"
   ]
  },
  {
   "cell_type": "code",
   "execution_count": 56,
   "metadata": {},
   "outputs": [],
   "source": [
    "cnn_model.compile(loss = 'sparse_categorical_crossentropy', optimizer = Adam(lr=0.001), metrics = ['accuracy'])"
   ]
  },
  {
   "cell_type": "code",
   "execution_count": 57,
   "metadata": {},
   "outputs": [
    {
     "name": "stdout",
     "output_type": "stream",
     "text": [
      "Epoch 1/50\n",
      "94/94 [==============================] - 2s 15ms/step - loss: 1.8301 - accuracy: 0.3725 - val_loss: 0.7521 - val_accuracy: 0.7259\n",
      "Epoch 2/50\n",
      "94/94 [==============================] - 1s 13ms/step - loss: 0.6892 - accuracy: 0.7519 - val_loss: 0.6081 - val_accuracy: 0.7797\n",
      "Epoch 3/50\n",
      "94/94 [==============================] - 1s 13ms/step - loss: 0.5849 - accuracy: 0.7859 - val_loss: 0.5451 - val_accuracy: 0.8042\n",
      "Epoch 4/50\n",
      "94/94 [==============================] - 1s 13ms/step - loss: 0.5356 - accuracy: 0.8051 - val_loss: 0.5304 - val_accuracy: 0.8033\n",
      "Epoch 5/50\n",
      "94/94 [==============================] - 1s 13ms/step - loss: 0.5033 - accuracy: 0.8177 - val_loss: 0.4861 - val_accuracy: 0.8227\n",
      "Epoch 6/50\n",
      "94/94 [==============================] - 1s 14ms/step - loss: 0.4765 - accuracy: 0.8265 - val_loss: 0.4671 - val_accuracy: 0.8293\n",
      "Epoch 7/50\n",
      "94/94 [==============================] - 1s 14ms/step - loss: 0.4567 - accuracy: 0.8361 - val_loss: 0.4573 - val_accuracy: 0.8323\n",
      "Epoch 8/50\n",
      "94/94 [==============================] - 1s 14ms/step - loss: 0.4470 - accuracy: 0.8377 - val_loss: 0.4426 - val_accuracy: 0.8386\n",
      "Epoch 9/50\n",
      "94/94 [==============================] - 1s 14ms/step - loss: 0.4327 - accuracy: 0.8430 - val_loss: 0.4606 - val_accuracy: 0.8266\n",
      "Epoch 10/50\n",
      "94/94 [==============================] - 1s 16ms/step - loss: 0.4300 - accuracy: 0.8452 - val_loss: 0.4285 - val_accuracy: 0.8426\n",
      "Epoch 11/50\n",
      "94/94 [==============================] - 1s 15ms/step - loss: 0.4153 - accuracy: 0.8495 - val_loss: 0.4187 - val_accuracy: 0.8457\n",
      "Epoch 12/50\n",
      "94/94 [==============================] - 1s 15ms/step - loss: 0.4084 - accuracy: 0.8541 - val_loss: 0.4139 - val_accuracy: 0.8487\n",
      "Epoch 13/50\n",
      "94/94 [==============================] - 1s 15ms/step - loss: 0.3985 - accuracy: 0.8556 - val_loss: 0.4108 - val_accuracy: 0.8508\n",
      "Epoch 14/50\n",
      "94/94 [==============================] - 1s 16ms/step - loss: 0.3924 - accuracy: 0.8554 - val_loss: 0.4106 - val_accuracy: 0.8480\n",
      "Epoch 15/50\n",
      "94/94 [==============================] - 1s 15ms/step - loss: 0.3891 - accuracy: 0.8583 - val_loss: 0.4082 - val_accuracy: 0.8507\n",
      "Epoch 16/50\n",
      "94/94 [==============================] - 1s 15ms/step - loss: 0.3855 - accuracy: 0.8605 - val_loss: 0.4533 - val_accuracy: 0.8355\n",
      "Epoch 17/50\n",
      "94/94 [==============================] - 1s 14ms/step - loss: 0.3913 - accuracy: 0.8586 - val_loss: 0.4027 - val_accuracy: 0.8547\n",
      "Epoch 18/50\n",
      "94/94 [==============================] - 1s 15ms/step - loss: 0.3749 - accuracy: 0.8627 - val_loss: 0.3970 - val_accuracy: 0.8562\n",
      "Epoch 19/50\n",
      "94/94 [==============================] - 1s 15ms/step - loss: 0.3774 - accuracy: 0.8640 - val_loss: 0.3939 - val_accuracy: 0.8550\n",
      "Epoch 20/50\n",
      "94/94 [==============================] - 1s 14ms/step - loss: 0.3574 - accuracy: 0.8699 - val_loss: 0.3912 - val_accuracy: 0.8587\n",
      "Epoch 21/50\n",
      "94/94 [==============================] - 1s 15ms/step - loss: 0.3659 - accuracy: 0.8665 - val_loss: 0.3900 - val_accuracy: 0.8581\n",
      "Epoch 22/50\n",
      "94/94 [==============================] - 1s 15ms/step - loss: 0.3567 - accuracy: 0.8702 - val_loss: 0.3921 - val_accuracy: 0.8533\n",
      "Epoch 23/50\n",
      "94/94 [==============================] - 1s 16ms/step - loss: 0.3563 - accuracy: 0.8709 - val_loss: 0.3851 - val_accuracy: 0.8618\n",
      "Epoch 24/50\n",
      "94/94 [==============================] - 1s 15ms/step - loss: 0.3510 - accuracy: 0.8727 - val_loss: 0.3894 - val_accuracy: 0.8602\n",
      "Epoch 25/50\n",
      "94/94 [==============================] - 1s 15ms/step - loss: 0.3579 - accuracy: 0.8687 - val_loss: 0.3773 - val_accuracy: 0.8630\n",
      "Epoch 26/50\n",
      "94/94 [==============================] - 1s 15ms/step - loss: 0.3435 - accuracy: 0.8765 - val_loss: 0.3767 - val_accuracy: 0.8628\n",
      "Epoch 27/50\n",
      "94/94 [==============================] - 1s 15ms/step - loss: 0.3493 - accuracy: 0.8752 - val_loss: 0.3752 - val_accuracy: 0.8606\n",
      "Epoch 28/50\n",
      "94/94 [==============================] - 1s 15ms/step - loss: 0.3479 - accuracy: 0.8735 - val_loss: 0.3726 - val_accuracy: 0.8633\n",
      "Epoch 29/50\n",
      "94/94 [==============================] - 1s 15ms/step - loss: 0.3381 - accuracy: 0.8768 - val_loss: 0.3707 - val_accuracy: 0.8660\n",
      "Epoch 30/50\n",
      "94/94 [==============================] - 1s 15ms/step - loss: 0.3359 - accuracy: 0.8775 - val_loss: 0.3714 - val_accuracy: 0.8673\n",
      "Epoch 31/50\n",
      "94/94 [==============================] - 1s 15ms/step - loss: 0.3348 - accuracy: 0.8792 - val_loss: 0.3697 - val_accuracy: 0.8659\n",
      "Epoch 32/50\n",
      "94/94 [==============================] - 1s 16ms/step - loss: 0.3357 - accuracy: 0.8787 - val_loss: 0.3700 - val_accuracy: 0.8648\n",
      "Epoch 33/50\n",
      "94/94 [==============================] - 1s 15ms/step - loss: 0.3250 - accuracy: 0.8843 - val_loss: 0.3646 - val_accuracy: 0.8675\n",
      "Epoch 34/50\n",
      "94/94 [==============================] - 1s 15ms/step - loss: 0.3265 - accuracy: 0.8825 - val_loss: 0.3614 - val_accuracy: 0.8662\n",
      "Epoch 35/50\n",
      "94/94 [==============================] - 1s 15ms/step - loss: 0.3295 - accuracy: 0.8812 - val_loss: 0.3736 - val_accuracy: 0.8612\n",
      "Epoch 36/50\n",
      "94/94 [==============================] - 1s 15ms/step - loss: 0.3212 - accuracy: 0.8860 - val_loss: 0.3718 - val_accuracy: 0.8655\n",
      "Epoch 37/50\n",
      "94/94 [==============================] - 2s 17ms/step - loss: 0.3291 - accuracy: 0.8819 - val_loss: 0.3787 - val_accuracy: 0.8598\n",
      "Epoch 38/50\n",
      "94/94 [==============================] - 1s 15ms/step - loss: 0.3277 - accuracy: 0.8793 - val_loss: 0.3658 - val_accuracy: 0.8632\n",
      "Epoch 39/50\n",
      "94/94 [==============================] - 1s 15ms/step - loss: 0.3215 - accuracy: 0.8846 - val_loss: 0.3619 - val_accuracy: 0.8674\n",
      "Epoch 40/50\n",
      "94/94 [==============================] - 1s 16ms/step - loss: 0.3160 - accuracy: 0.8846 - val_loss: 0.3579 - val_accuracy: 0.8692\n",
      "Epoch 41/50\n",
      "94/94 [==============================] - 1s 15ms/step - loss: 0.3155 - accuracy: 0.8847 - val_loss: 0.3585 - val_accuracy: 0.8694\n",
      "Epoch 42/50\n",
      "94/94 [==============================] - 1s 16ms/step - loss: 0.3146 - accuracy: 0.8851 - val_loss: 0.3566 - val_accuracy: 0.8698\n",
      "Epoch 43/50\n",
      "94/94 [==============================] - 1s 15ms/step - loss: 0.3121 - accuracy: 0.8865 - val_loss: 0.3604 - val_accuracy: 0.8697\n",
      "Epoch 44/50\n",
      "94/94 [==============================] - 2s 16ms/step - loss: 0.3097 - accuracy: 0.8894 - val_loss: 0.3579 - val_accuracy: 0.8688\n",
      "Epoch 45/50\n",
      "94/94 [==============================] - 1s 16ms/step - loss: 0.3062 - accuracy: 0.8889 - val_loss: 0.3568 - val_accuracy: 0.8712\n",
      "Epoch 46/50\n",
      "94/94 [==============================] - 1s 16ms/step - loss: 0.3071 - accuracy: 0.8894 - val_loss: 0.3587 - val_accuracy: 0.8694\n",
      "Epoch 47/50\n",
      "94/94 [==============================] - 1s 15ms/step - loss: 0.3067 - accuracy: 0.8894 - val_loss: 0.3576 - val_accuracy: 0.8678\n",
      "Epoch 48/50\n",
      "94/94 [==============================] - 1s 15ms/step - loss: 0.2977 - accuracy: 0.8917 - val_loss: 0.3570 - val_accuracy: 0.8710\n",
      "Epoch 49/50\n",
      "94/94 [==============================] - 1s 15ms/step - loss: 0.3009 - accuracy: 0.8923 - val_loss: 0.3587 - val_accuracy: 0.8710\n",
      "Epoch 50/50\n",
      "94/94 [==============================] - 2s 16ms/step - loss: 0.2976 - accuracy: 0.8927 - val_loss: 0.3563 - val_accuracy: 0.8684\n"
     ]
    },
    {
     "data": {
      "text/plain": [
       "<tensorflow.python.keras.callbacks.History at 0x21ad9cf24c0>"
      ]
     },
     "execution_count": 57,
     "metadata": {},
     "output_type": "execute_result"
    }
   ],
   "source": [
    "cnn_model.fit(X_train, y_train, batch_size=512, epochs = 50, verbose=1,\n",
    "             validation_data= (X_validate, y_validate))"
   ]
  },
  {
   "cell_type": "code",
   "execution_count": 58,
   "metadata": {},
   "outputs": [],
   "source": [
    "## model evaluation"
   ]
  },
  {
   "cell_type": "code",
   "execution_count": 59,
   "metadata": {},
   "outputs": [
    {
     "name": "stdout",
     "output_type": "stream",
     "text": [
      "313/313 [==============================] - 0s 729us/step - loss: 0.3372 - accuracy: 0.8765\n",
      "test accuracy:  0.877\n"
     ]
    }
   ],
   "source": [
    "evaluation = cnn_model.evaluate(X_test, y_test)\n",
    "print(\"test accuracy: {: .3f}\".format(evaluation[1]))"
   ]
  },
  {
   "cell_type": "code",
   "execution_count": 60,
   "metadata": {},
   "outputs": [
    {
     "name": "stderr",
     "output_type": "stream",
     "text": [
      "D:\\Anaconda\\lib\\site-packages\\tensorflow\\python\\keras\\engine\\sequential.py:450: UserWarning: `model.predict_classes()` is deprecated and will be removed after 2021-01-01. Please use instead:* `np.argmax(model.predict(x), axis=-1)`,   if your model does multi-class classification   (e.g. if it uses a `softmax` last-layer activation).* `(model.predict(x) > 0.5).astype(\"int32\")`,   if your model does binary classification   (e.g. if it uses a `sigmoid` last-layer activation).\n",
      "  warnings.warn('`model.predict_classes()` is deprecated and '\n"
     ]
    }
   ],
   "source": [
    "predicted_classes = cnn_model.predict_classes(X_test)"
   ]
  },
  {
   "cell_type": "code",
   "execution_count": 61,
   "metadata": {},
   "outputs": [
    {
     "data": {
      "text/plain": [
       "<matplotlib.image.AxesImage at 0x21ada080370>"
      ]
     },
     "execution_count": 61,
     "metadata": {},
     "output_type": "execute_result"
    },
    {
     "data": {
      "image/png": "[encoded data removed]",
      "text/plain": [
       "<Figure size 432x288 with 1 Axes>"
      ]
     },
     "metadata": {
      "needs_background": "light"
     },
     "output_type": "display_data"
    }
   ],
   "source": [
    "plt.imshow(test[5000, 1:].reshape(28,28))"
   ]
  },
  {
   "cell_type": "code",
   "execution_count": 62,
   "metadata": {},
   "outputs": [
    {
     "data": {
      "text/plain": [
       "1"
      ]
     },
     "execution_count": 62,
     "metadata": {},
     "output_type": "execute_result"
    }
   ],
   "source": [
    "predicted_classes[5000]"
   ]
  },
  {
   "cell_type": "code",
   "execution_count": 63,
   "metadata": {},
   "outputs": [
    {
     "data": {
      "text/plain": [
       "1.0"
      ]
     },
     "execution_count": 63,
     "metadata": {},
     "output_type": "execute_result"
    }
   ],
   "source": [
    "test[5000, 0]"
   ]
  },
  {
   "cell_type": "code",
   "execution_count": null,
   "metadata": {},
   "outputs": [],
   "source": []
  },
  {
   "cell_type": "code",
   "execution_count": 64,
   "metadata": {},
   "outputs": [
    {
     "data": {
      "text/plain": [
       "<AxesSubplot:>"
      ]
     },
     "execution_count": 64,
     "metadata": {},
     "output_type": "execute_result"
    },
    {
     "data": {
      "image/png": "[encoded data removed]",
      "text/plain": [
       "<Figure size 1008x1368 with 2 Axes>"
      ]
     },
     "metadata": {
      "needs_background": "light"
     },
     "output_type": "display_data"
    }
   ],
   "source": [
    "from sklearn.metrics import confusion_matrix\n",
    "\n",
    "cm = confusion_matrix(y_test, predicted_classes)\n",
    "plt.figure(figsize=(14,19))\n",
    "sns.heatmap(cm, annot = True)"
   ]
  },
  {
   "cell_type": "code",
   "execution_count": 65,
   "metadata": {},
   "outputs": [
    {
     "name": "stdout",
     "output_type": "stream",
     "text": [
      "              precision    recall  f1-score   support\n",
      "\n",
      "     Class 0       0.83      0.85      0.84      1000\n",
      "     Class 1       0.98      0.98      0.98      1000\n",
      "     Class 2       0.75      0.86      0.80      1000\n",
      "     Class 3       0.88      0.90      0.89      1000\n",
      "     Class 4       0.78      0.82      0.80      1000\n",
      "     Class 5       0.96      0.96      0.96      1000\n",
      "     Class 6       0.75      0.55      0.63      1000\n",
      "     Class 7       0.93      0.93      0.93      1000\n",
      "     Class 8       0.95      0.97      0.96      1000\n",
      "     Class 9       0.95      0.95      0.95      1000\n",
      "\n",
      "    accuracy                           0.88     10000\n",
      "   macro avg       0.88      0.88      0.87     10000\n",
      "weighted avg       0.88      0.88      0.87     10000\n",
      "\n"
     ]
    }
   ],
   "source": [
    "from sklearn.metrics import classification_report\n",
    "\n",
    "num_class = 10\n",
    "target_names = [\"Class {}\".format(i) for i in range (num_class)]\n",
    "\n",
    "print(classification_report(y_test, predicted_classes, target_names=target_names))"
   ]
  },
  {
   "cell_type": "code",
   "execution_count": null,
   "metadata": {},
   "outputs": [],
   "source": []
  }
 ],
 "metadata": {
  "kernelspec": {
   "display_name": "Python 3",
   "language": "python",
   "name": "python3"
  },
  "language_info": {
   "codemirror_mode": {
    "name": "ipython",
    "version": 3
   },
   "file_extension": ".py",
   "mimetype": "text/x-python",
   "name": "python",
   "nbconvert_exporter": "python",
   "pygments_lexer": "ipython3",
   "version": "3.8.5"
  }
 },
 "nbformat": 4,
 "nbformat_minor": 4
}
